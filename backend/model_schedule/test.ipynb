{
 "cells": [
  {
   "cell_type": "code",
   "execution_count": 13,
   "metadata": {},
   "outputs": [],
   "source": [
    "import os\n",
    "import pickle\n",
    "\n",
    "file_path = 'preprocessed_corpus.pkl'\n",
    "\n",
    "try:\n",
    "    with open(file_path, 'rb') as f:\n",
    "        while True:\n",
    "            try:\n",
    "                loaded_preprocessed_corpus = pickle.load(f)\n",
    "            except EOFError:\n",
    "                break\n",
    "            except pickle.UnpicklingError as e:\n",
    "                print(f\"Error unpickling at chunk: {e}\")\n",
    "                break\n",
    "except Exception as e:\n",
    "    print(f\"Failed to read file: {e}\")\n"
   ]
  },
  {
   "cell_type": "code",
   "execution_count": 12,
   "metadata": {},
   "outputs": [
    {
     "name": "stdout",
     "output_type": "stream",
     "text": [
      "Failed to read the file with encoding: cp1252\n",
      "'charmap' codec can't decode byte 0x9d in position 225941: character maps to <undefined>\n"
     ]
    }
   ],
   "source": [
    "import pandas as pd\n",
    "\n",
    "file_path = 'dev_damage_report_data.csv'\n",
    "\n",
    "# Try reading the CSV file with different encodings\n",
    "for encoding in ['cp1252']:\n",
    "    try:\n",
    "        df = pd.read_csv(file_path, encoding=encoding)\n",
    "        print(f\"Successfully read the file with encoding: {encoding}\")\n",
    "        print(df.head())\n",
    "        break\n",
    "    except UnicodeDecodeError as e:\n",
    "        print(f\"Failed to read the file with encoding: {encoding}\")\n",
    "        print(e)\n"
   ]
  },
  {
   "cell_type": "code",
   "execution_count": 5,
   "metadata": {},
   "outputs": [
    {
     "name": "stdout",
     "output_type": "stream",
     "text": [
      "Collecting chardetNote: you may need to restart the kernel to use updated packages.\n",
      "\n",
      "  Downloading chardet-5.2.0-py3-none-any.whl (199 kB)\n",
      "     -------------------------------------- 199.4/199.4 kB 1.0 MB/s eta 0:00:00\n",
      "Installing collected packages: chardet\n",
      "Successfully installed chardet-5.2.0\n"
     ]
    }
   ],
   "source": [
    "pip install chardet"
   ]
  },
  {
   "cell_type": "code",
   "execution_count": 6,
   "metadata": {},
   "outputs": [
    {
     "name": "stdout",
     "output_type": "stream",
     "text": [
      "Detected encoding: EUC-KR\n",
      "Failed to read the file with detected encoding: EUC-KR\n",
      "'euc_kr' codec can't decode byte 0x89 in position 34952: illegal multibyte sequence\n"
     ]
    }
   ],
   "source": [
    "import chardet\n",
    "import pandas as pd\n",
    "\n",
    "file_path = 'dev_damage_report_data.csv'\n",
    "\n",
    "# Open the file in binary mode and read a portion of it to detect the encoding\n",
    "with open(file_path, 'rb') as file:\n",
    "    raw_data = file.read(10000)  # Read the first 10000 bytes\n",
    "    result = chardet.detect(raw_data)\n",
    "    encoding = result['encoding']\n",
    "\n",
    "print(f\"Detected encoding: {encoding}\")\n",
    "\n",
    "# Use the detected encoding to read the CSV file\n",
    "try:\n",
    "    df = pd.read_csv(file_path, encoding=encoding)\n",
    "    print(f\"Successfully read the file with encoding: {encoding}\")\n",
    "    print(df.head())\n",
    "except UnicodeDecodeError as e:\n",
    "    print(f\"Failed to read the file with detected encoding: {encoding}\")\n",
    "    print(e)\n"
   ]
  }
 ],
 "metadata": {
  "kernelspec": {
   "display_name": "lh",
   "language": "python",
   "name": "python3"
  },
  "language_info": {
   "codemirror_mode": {
    "name": "ipython",
    "version": 3
   },
   "file_extension": ".py",
   "mimetype": "text/x-python",
   "name": "python",
   "nbconvert_exporter": "python",
   "pygments_lexer": "ipython3",
   "version": "3.7.12"
  }
 },
 "nbformat": 4,
 "nbformat_minor": 2
}
