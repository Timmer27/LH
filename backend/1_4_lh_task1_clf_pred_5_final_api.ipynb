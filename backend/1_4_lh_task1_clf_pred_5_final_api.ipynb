{
 "cells": [
  {
   "cell_type": "code",
   "execution_count": 1,
   "metadata": {},
   "outputs": [
    {
     "name": "stdout",
     "output_type": "stream",
     "text": [
      "Note: you may need to restart the kernel to use updated packages.\n"
     ]
    }
   ],
   "source": [
    "pip freeze > requirements.txt"
   ]
  },
  {
   "cell_type": "code",
   "execution_count": 4,
   "metadata": {},
   "outputs": [
    {
     "name": "stdout",
     "output_type": "stream",
     "text": [
      "Using CPU\n"
     ]
    }
   ],
   "source": [
    "# 필요 라이브러리 로드\n",
    "import time, sys, warnings\n",
    "import pandas as pd  # 데이터 처리\n",
    "import torch  # 텐서 계산\n",
    "from torch.utils.data import Dataset, DataLoader  # 데이터 로딩\n",
    "from transformers import AutoTokenizer, AutoModelForSequenceClassification  # 트랜스포머 모델\n",
    "import torch.nn.functional as F\n",
    "\n",
    "# 사용자 정의 모듈 로드\n",
    "from common import *\n",
    "from func_collection import *\n",
    "\n",
    "# 경고 메시지 무시 설정\n",
    "warnings.filterwarnings('ignore')\n",
    "\n",
    "# 데이터셋 클래스 정의\n",
    "class TextDataset(Dataset):\n",
    "    def __init__(self, encodings, labels):\n",
    "        self.encodings = encodings\n",
    "        self.labels = labels\n",
    "\n",
    "    def __getitem__(self, idx):\n",
    "        item = {key: torch.tensor(val[idx]) for key, val in self.encodings.items()}\n",
    "        item['labels'] = torch.tensor(self.labels[idx])\n",
    "        return item\n",
    "\n",
    "    def __len__(self):\n",
    "        return len(self.labels)\n",
    "\n",
    "TEXT_MODEL_FILES = os.path.join(os.getcwd(), 'models_text')\n",
    "\n",
    "# 표준 단어 세트 로드 및 대표단어 변경\n",
    "standard_word_set = pd_read_json(os.path.join(TEXT_MODEL_FILES, 'TB_MMA_CNV_DIC_M.json'))\n",
    "word_dict = dict(zip(standard_word_set['INP_DTLS'], standard_word_set['RPSN_DTLS']))\n",
    "\n",
    "# 레이블 데이터 로드\n",
    "labels_df = pd.read_excel(os.path.join(TEXT_MODEL_FILES, 'labels_task1.xlsx'))\n",
    "labels_df = labels_df.drop('Unnamed: 0', axis=1)\n",
    "\n",
    "# GPU 설정\n",
    "if torch.cuda.is_available():\n",
    "    torch.cuda.set_device(0)\n",
    "    device = torch.device('cuda:0')\n",
    "    print(\"Using GPU:\", torch.cuda.get_device_name(0))\n",
    "    tokenizer = torch.load(os.path.join(TEXT_MODEL_FILES, 'dev_dev_lh_text_clf_tok_20240625_thi.pt'))\n",
    "    model = torch.load(os.path.join(TEXT_MODEL_FILES, 'dev_dev_lh_text_clf_20240625_thi.pt'))\n",
    "else:\n",
    "    device = torch.device('cpu')\n",
    "    tokenizer = torch.load(os.path.join(TEXT_MODEL_FILES, 'dev_dev_lh_text_clf_tok_20240625_thi.pt'))\n",
    "    model = torch.load(os.path.join(TEXT_MODEL_FILES, 'dev_dev_lh_text_clf_20240625_thi.pt'), map_location=torch.device('cpu'))    \n",
    "    print(\"Using CPU\")"
   ]
  },
  {
   "cell_type": "code",
   "execution_count": 27,
   "metadata": {},
   "outputs": [],
   "source": [
    "# 텍스트 예측 함수 정의\n",
    "def txt_prd_func(model, flw_cts, word_dict, tokenizer, labels_df, num):\n",
    "    start_time = time.time()  # 시작 시간 저장\n",
    "\n",
    "    # 입력 처리'../data/dic/불용어.txt'\n",
    "    input_text = flw_cts\n",
    "    pre_input_text = preprocess_text(TEXT_MODEL_FILES, 'stopwords.txt', input_text)\n",
    "    stan_input_text = replace_words(pre_input_text, 1, word_dict)\n",
    "\n",
    "    # 데이터 토큰화, 데이터셋 생성, 데이터 로더 생성\n",
    "    test_encodings = tokenizer([stan_input_text], truncation=True, padding=True)    \n",
    "    test_dataset = TextDataset(test_encodings, [0])         \n",
    "    test_loader = DataLoader(test_dataset, batch_size=1, shuffle=False)\n",
    "\n",
    "    # 장치 설정\n",
    "    device = torch.device('cuda:0') if torch.cuda.is_available() else torch.device('cpu')\n",
    "    \n",
    "    # 모델 평가\n",
    "    model.to(device)\n",
    "    model.eval()        \n",
    "    for batch in test_loader:  \n",
    "        with torch.no_grad():\n",
    "            input_ids = batch['input_ids'].to(device)\n",
    "            attention_mask = batch['attention_mask'].to(device)\n",
    "            labels = batch['labels'].to(device)\n",
    "            outputs = model(input_ids, attention_mask=attention_mask)\n",
    "\n",
    "    # 결과 계산\n",
    "    probabilities = F.softmax(outputs.logits, dim=1)\n",
    "    prob, indices = torch.topk(probabilities, num)\n",
    "\n",
    "    # 응답 생성\n",
    "    result = []\n",
    "    for i, label_index in enumerate(indices.tolist()[0][:num]):\n",
    "        result.append({\n",
    "            \"tp_cd\": labels_df['tp_cd'].loc[label_index],\n",
    "            \"tp_nm\": labels_df['labels'].loc[label_index],\n",
    "            \"tp_prb\": round(prob.tolist()[0][i], 4)\n",
    "        })\n",
    "\n",
    "    def _ordinal_suffix(n):\n",
    "        if 11 <= n % 100 <= 13:\n",
    "            return 'th'\n",
    "        else:\n",
    "            return {1: 'st', 2: 'nd', 3: 'rd'}.get(n % 10, 'th')        \n",
    "\n",
    "    # Rename keys for the first three results\n",
    "    key_mapping = {i: f\"{_ordinal_suffix(i+1)}_tp\" for i in range(num)}\n",
    "    # key_mapping = {0: \"fir\", 1: \"sec\", 2: \"thi\"}\n",
    "    rspns = {\"result\": [{f\"{key_mapping[i]}_tp_cd\": item[\"tp_cd\"], f\"{key_mapping[i]}_tp_nm\": item[\"tp_nm\"], f\"{key_mapping[i]}_tp_prb\": item[\"tp_prb\"]} for i, item in enumerate(result)], \"status\": \"ok\"}\n",
    "\n",
    "    end_time = time.time()  # 종료 시간 저장\n",
    "    print(\"응답시간: \", end_time - start_time)  # 현재시각 - 시작시간 = 실행 시간\n",
    "\n",
    "    return rspns"
   ]
  },
  {
   "cell_type": "code",
   "execution_count": 30,
   "metadata": {},
   "outputs": [
    {
     "name": "stdout",
     "output_type": "stream",
     "text": [
      "indices 1 SequenceClassifierOutput(loss=None, logits=tensor([[ 1.1367,  1.6419,  8.7133, -1.4026,  0.9806,  0.1393,  0.9250, 10.2871,\n",
      "         -0.7516, -0.4098,  0.1448, -2.3899, -1.8774, -0.7302, -0.2367, -1.3805,\n",
      "         -0.5325,  1.0246, -1.0576, -0.1312,  1.7065,  0.2016, -2.8904, -2.0111,\n",
      "         -1.8138, -1.0579, -2.4571, -0.0890, -2.8503, -2.4373, -1.1945, -2.3927,\n",
      "         -2.3696, -1.6583,  0.2017, -1.4041, -2.7171, -1.9852, -2.5601, -2.5393,\n",
      "         -1.9778, -3.2035, -1.8429, -2.3358, -2.3097, -0.3879, -1.5173, -3.4042,\n",
      "         -3.2906,  0.8751, -2.8683]]), hidden_states=None, attentions=None) le 1\n",
      "응답시간:  0.2009413242340088\n"
     ]
    },
    {
     "data": {
      "text/plain": [
       "{'result': [{'st_tp_tp_cd': 1, 'st_tp_tp_nm': '개폐불량', 'st_tp_tp_prb': 0.8274},\n",
       "  {'nd_tp_tp_cd': 7, 'nd_tp_tp_nm': '고정불량', 'nd_tp_tp_prb': 0.1715},\n",
       "  {'rd_tp_tp_cd': 65, 'rd_tp_tp_nm': '잠금불량', 'rd_tp_tp_prb': 0.0002},\n",
       "  {'th_tp_tp_cd': 67, 'th_tp_tp_nm': '점검/교체', 'th_tp_tp_prb': 0.0001},\n",
       "  {'th_tp_tp_cd': 64, 'th_tp_tp_nm': '작동불량', 'th_tp_tp_prb': 0.0001},\n",
       "  {'th_tp_tp_cd': 61, 'th_tp_tp_nm': '이격', 'th_tp_tp_prb': 0.0001},\n",
       "  {'th_tp_tp_cd': 84, 'th_tp_tp_nm': '흠집', 'th_tp_tp_prb': 0.0001},\n",
       "  {'th_tp_tp_cd': 57, 'th_tp_tp_nm': '오염', 'th_tp_tp_prb': 0.0001},\n",
       "  {'th_tp_tp_cd': 38, 'th_tp_tp_nm': '변형', 'th_tp_tp_prb': 0.0001},\n",
       "  {'th_tp_tp_cd': 14, 'th_tp_tp_nm': '누락', 'th_tp_tp_prb': 0.0},\n",
       "  {'th_tp_tp_cd': 99, 'th_tp_tp_nm': '손잡이불량', 'th_tp_tp_prb': 0.0},\n",
       "  {'th_tp_tp_cd': 81, 'th_tp_tp_nm': '파손', 'th_tp_tp_prb': 0.0},\n",
       "  {'th_tp_tp_cd': 26, 'th_tp_tp_nm': '들뜸', 'th_tp_tp_prb': 0.0},\n",
       "  {'th_tp_tp_cd': 19, 'th_tp_tp_nm': '단차', 'th_tp_tp_prb': 0.0},\n",
       "  {'th_tp_tp_cd': 34, 'th_tp_tp_nm': '배수불량', 'th_tp_tp_prb': 0.0},\n",
       "  {'th_tp_tp_cd': 41, 'th_tp_tp_nm': '부식', 'th_tp_tp_prb': 0.0},\n",
       "  {'th_tp_tp_cd': 103, 'th_tp_tp_nm': '자연환기구불량', 'th_tp_tp_prb': 0.0},\n",
       "  {'th_tp_tp_cd': 27, 'th_tp_tp_nm': '마감불량', 'th_tp_tp_prb': 0.0},\n",
       "  {'th_tp_tp_cd': 45, 'th_tp_tp_nm': '소음', 'th_tp_tp_prb': 0.0},\n",
       "  {'th_tp_tp_cd': 74, 'th_tp_tp_nm': '코킹불량', 'th_tp_tp_prb': 0.0},\n",
       "  {'st_tp_tp_cd': 68, 'st_tp_tp_nm': '점등불량', 'st_tp_tp_prb': 0.0},\n",
       "  {'nd_tp_tp_cd': 109, 'nd_tp_tp_nm': '탈부착/교체', 'nd_tp_tp_prb': 0.0},\n",
       "  {'rd_tp_tp_cd': 35, 'rd_tp_tp_nm': '벗겨짐', 'rd_tp_tp_prb': 0.0},\n",
       "  {'th_tp_tp_cd': 108, 'th_tp_tp_nm': '재고부족', 'th_tp_tp_prb': 0.0},\n",
       "  {'th_tp_tp_cd': 62, 'th_tp_tp_nm': '이음불량', 'th_tp_tp_prb': 0.0},\n",
       "  {'th_tp_tp_cd': 15, 'th_tp_tp_nm': '누수', 'th_tp_tp_prb': 0.0},\n",
       "  {'th_tp_tp_cd': 56, 'th_tp_tp_nm': '영상불량', 'th_tp_tp_prb': 0.0},\n",
       "  {'th_tp_tp_cd': 104, 'th_tp_tp_nm': '커버불량', 'th_tp_tp_prb': 0.0},\n",
       "  {'th_tp_tp_cd': 55, 'th_tp_tp_nm': '역류', 'th_tp_tp_prb': 0.0},\n",
       "  {'th_tp_tp_cd': 46, 'th_tp_tp_nm': '수압불량', 'th_tp_tp_prb': 0.0},\n",
       "  {'st_tp_tp_cd': 90, 'st_tp_tp_nm': '노후', 'st_tp_tp_prb': 0.0},\n",
       "  {'nd_tp_tp_cd': 12, 'nd_tp_tp_nm': '균열', 'nd_tp_tp_prb': 0.0},\n",
       "  {'rd_tp_tp_cd': 59, 'rd_tp_tp_nm': '유입', 'rd_tp_tp_prb': 0.0},\n",
       "  {'th_tp_tp_cd': 9, 'th_tp_tp_nm': '구멍', 'th_tp_tp_prb': 0.0},\n",
       "  {'th_tp_tp_cd': 13, 'th_tp_tp_nm': '난방불량', 'th_tp_tp_prb': 0.0},\n",
       "  {'th_tp_tp_cd': 94, 'th_tp_tp_nm': '백시멘트불량', 'th_tp_tp_prb': 0.0},\n",
       "  {'th_tp_tp_cd': 79, 'th_tp_tp_nm': '통신불량', 'th_tp_tp_prb': 0.0},\n",
       "  {'th_tp_tp_cd': 23, 'th_tp_tp_nm': '도장불량', 'th_tp_tp_prb': 0.0},\n",
       "  {'th_tp_tp_cd': 70, 'th_tp_tp_nm': '줄눈탈락', 'th_tp_tp_prb': 0.0},\n",
       "  {'th_tp_tp_cd': 37, 'th_tp_tp_nm': '변색', 'th_tp_tp_prb': 0.0},\n",
       "  {'st_tp_tp_cd': 32, 'st_tp_tp_nm': '박리', 'st_tp_tp_prb': 0.0},\n",
       "  {'nd_tp_tp_cd': 2, 'nd_tp_tp_nm': '결로', 'nd_tp_tp_prb': 0.0},\n",
       "  {'rd_tp_tp_cd': 16, 'rd_tp_tp_nm': '누전', 'rd_tp_tp_prb': 0.0},\n",
       "  {'th_tp_tp_cd': 54, 'th_tp_tp_nm': '악취', 'th_tp_tp_prb': 0.0},\n",
       "  {'th_tp_tp_cd': 83, 'th_tp_tp_nm': '함몰', 'th_tp_tp_prb': 0.0},\n",
       "  {'th_tp_tp_cd': 8, 'th_tp_tp_nm': '곰팡이', 'th_tp_tp_prb': 0.0},\n",
       "  {'th_tp_tp_cd': 52, 'th_tp_tp_nm': '신규(추가)설치', 'th_tp_tp_prb': 0.0},\n",
       "  {'th_tp_tp_cd': 10, 'th_tp_tp_nm': '구배불량', 'th_tp_tp_prb': 0.0},\n",
       "  {'th_tp_tp_cd': 6, 'th_tp_tp_nm': '고사', 'th_tp_tp_prb': 0.0},\n",
       "  {'th_tp_tp_cd': 33, 'th_tp_tp_nm': '방수불량', 'th_tp_tp_prb': 0.0},\n",
       "  {'st_tp_tp_cd': 75, 'st_tp_tp_nm': '콘크리트균열', 'st_tp_tp_prb': 0.0}],\n",
       " 'status': 'ok'}"
      ]
     },
     "execution_count": 30,
     "metadata": {},
     "output_type": "execute_result"
    }
   ],
   "source": [
    "flw_cts = '상부장이 흔들려서 문이 잘 안닫혀요'\n",
    "txt_prd_func(model, flw_cts, word_dict, tokenizer, labels_df, 51)"
   ]
  },
  {
   "cell_type": "code",
   "execution_count": 11,
   "metadata": {},
   "outputs": [
    {
     "data": {
      "text/plain": [
       "'ok'"
      ]
     },
     "execution_count": 11,
     "metadata": {},
     "output_type": "execute_result"
    }
   ],
   "source": []
  },
  {
   "cell_type": "code",
   "execution_count": null,
   "metadata": {},
   "outputs": [],
   "source": [
    "txt_prd_func('수전에서 물이새요')"
   ]
  }
 ],
 "metadata": {
  "kernelspec": {
   "display_name": "lh_dev1",
   "language": "python",
   "name": "python3"
  },
  "language_info": {
   "codemirror_mode": {
    "name": "ipython",
    "version": 3
   },
   "file_extension": ".py",
   "mimetype": "text/x-python",
   "name": "python",
   "nbconvert_exporter": "python",
   "pygments_lexer": "ipython3",
   "version": "3.7.12"
  }
 },
 "nbformat": 4,
 "nbformat_minor": 2
}
